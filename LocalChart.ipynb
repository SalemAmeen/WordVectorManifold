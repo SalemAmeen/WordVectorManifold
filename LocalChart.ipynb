{
 "cells": [
  {
   "cell_type": "code",
   "execution_count": 6,
   "metadata": {
    "collapsed": true
   },
   "outputs": [],
   "source": [
    "import cPickle as pkl\n",
    "import numpy\n",
    "from sklearn.decomposition import PCA"
   ]
  },
  {
   "cell_type": "markdown",
   "metadata": {},
   "source": [
    "Load a word embedding dictionary of which keys are words and values are corresponding vectors."
   ]
  },
  {
   "cell_type": "code",
   "execution_count": 7,
   "metadata": {
    "collapsed": true
   },
   "outputs": [],
   "source": [
    "path = './D_cbow_pdw_8B.pkl'"
   ]
  },
  {
   "cell_type": "code",
   "execution_count": 8,
   "metadata": {
    "collapsed": false
   },
   "outputs": [],
   "source": [
    "embs = pkl.load(open(path, 'rb'))"
   ]
  },
  {
   "cell_type": "code",
   "execution_count": 9,
   "metadata": {
    "collapsed": false
   },
   "outputs": [],
   "source": [
    "vectors = numpy.array(embs.values())\n",
    "words = numpy.array(embs.keys())"
   ]
  },
  {
   "cell_type": "markdown",
   "metadata": {},
   "source": [
    "Choose a word you want to inspect."
   ]
  },
  {
   "cell_type": "code",
   "execution_count": 22,
   "metadata": {
    "collapsed": true
   },
   "outputs": [],
   "source": [
    "w = 'radio'\n",
    "# grab the word vector in interest\n",
    "v = vectors[numpy.where(words == w)[0][0]]"
   ]
  },
  {
   "cell_type": "markdown",
   "metadata": {},
   "source": [
    "Find $N$ nearest neighbours. They will be used to approximate a local chart of the manifold defined by the word embedding vectors."
   ]
  },
  {
   "cell_type": "code",
   "execution_count": 24,
   "metadata": {
    "collapsed": true
   },
   "outputs": [],
   "source": [
    "N = 100\n",
    "idx = numpy.argsort(((vectors - v[None,:])**2).sum(1))[:N]\n",
    "wl = words[idx]\n",
    "vl = vectors[idx,:]"
   ]
  },
  {
   "cell_type": "markdown",
   "metadata": {},
   "source": [
    "Find orthogonal bases using PCA."
   ]
  },
  {
   "cell_type": "code",
   "execution_count": 25,
   "metadata": {
    "collapsed": true
   },
   "outputs": [],
   "source": [
    "pca = PCA(n_components=2)\n",
    "vl_pca = pca.fit_transform(vl)"
   ]
  },
  {
   "cell_type": "markdown",
   "metadata": {},
   "source": [
    "For each principal axis, show $M$ elements (in order) near the word in interest"
   ]
  },
  {
   "cell_type": "code",
   "execution_count": 27,
   "metadata": {
    "collapsed": false
   },
   "outputs": [
    {
     "name": "stdout",
     "output_type": "stream",
     "text": [
      "0 ['television' 'tv' 'radio' 'televison' 'radio/tv']\n",
      "1 ['wxrt' 'wqht' 'wncn' 'radio' 'wfuv']\n"
     ]
    }
   ],
   "source": [
    "M = 5\n",
    "for dix in xrange(vl_pca.shape[1]):\n",
    "    loc = vl_pca[:,dix] - vl_pca[0,dix]\n",
    "    dis = loc ** 2\n",
    "    iid = numpy.argsort(dis)[:M]\n",
    "    print dix, wl[iid][numpy.argsort(loc[iid])]"
   ]
  }
 ],
 "metadata": {
  "kernelspec": {
   "display_name": "Python 2",
   "language": "python",
   "name": "python2"
  },
  "language_info": {
   "codemirror_mode": {
    "name": "ipython",
    "version": 2
   },
   "file_extension": ".py",
   "mimetype": "text/x-python",
   "name": "python",
   "nbconvert_exporter": "python",
   "pygments_lexer": "ipython2",
   "version": "2.7.11"
  }
 },
 "nbformat": 4,
 "nbformat_minor": 0
}
