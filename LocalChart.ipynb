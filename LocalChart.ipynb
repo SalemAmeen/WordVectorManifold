{
 "cells": [
  {
   "cell_type": "code",
   "execution_count": 6,
   "metadata": {
    "collapsed": true
   },
   "outputs": [],
   "source": [
    "import cPickle as pkl\n",
    "import numpy\n",
    "from sklearn.decomposition import PCA"
   ]
  },
  {
   "cell_type": "code",
   "execution_count": 7,
   "metadata": {
    "collapsed": true
   },
   "outputs": [],
   "source": [
    "path = './D_cbow_pdw_8B.pkl'"
   ]
  },
  {
   "cell_type": "code",
   "execution_count": 8,
   "metadata": {
    "collapsed": false
   },
   "outputs": [],
   "source": [
    "embs = pkl.load(open(path, 'rb'))"
   ]
  },
  {
   "cell_type": "code",
   "execution_count": 9,
   "metadata": {
    "collapsed": false
   },
   "outputs": [],
   "source": [
    "vectors = numpy.array(embs.values())\n",
    "words = numpy.array(embs.keys())"
   ]
  },
  {
   "cell_type": "code",
   "execution_count": 22,
   "metadata": {
    "collapsed": true
   },
   "outputs": [],
   "source": [
    "w = 'radio'"
   ]
  },
  {
   "cell_type": "code",
   "execution_count": 23,
   "metadata": {
    "collapsed": true
   },
   "outputs": [],
   "source": [
    "# grab the word vector in interest\n",
    "v = vectors[numpy.where(words == w)[0][0]]"
   ]
  },
  {
   "cell_type": "code",
   "execution_count": 24,
   "metadata": {
    "collapsed": true
   },
   "outputs": [],
   "source": [
    "# find N nearest neighbours. They will be used to approximate a local chart\n",
    "N = 100\n",
    "idx = numpy.argsort(((vectors - v[None,:])**2).sum(1))[:N]\n",
    "wl = words[idx]\n",
    "vl = vectors[idx,:]"
   ]
  },
  {
   "cell_type": "code",
   "execution_count": 25,
   "metadata": {
    "collapsed": true
   },
   "outputs": [],
   "source": [
    "# find orthogonal bases using PCA\n",
    "pca = PCA(n_components=2)\n",
    "vl_pca = pca.fit_transform(vl)"
   ]
  },
  {
   "cell_type": "code",
   "execution_count": 26,
   "metadata": {
    "collapsed": false
   },
   "outputs": [
    {
     "name": "stdout",
     "output_type": "stream",
     "text": [
      "0 ['television' 'tv' 'radio' 'televison' 'radio/tv']\n",
      "1 ['wxrt' 'wqht' 'wncn' 'radio' 'wfuv']\n"
     ]
    }
   ],
   "source": [
    "# for each principal axis, show M elements near the word in interest\n",
    "M = 5\n",
    "for dix in xrange(vl_pca.shape[1]):\n",
    "    loc = vl_pca[:,dix] - vl_pca[0,dix]\n",
    "    dis = loc ** 2\n",
    "    iid = numpy.argsort(dis)[:M]\n",
    "    print dix, wl[iid][numpy.argsort(loc[iid])]"
   ]
  },
  {
   "cell_type": "code",
   "execution_count": null,
   "metadata": {
    "collapsed": true
   },
   "outputs": [],
   "source": []
  }
 ],
 "metadata": {
  "kernelspec": {
   "display_name": "Python 2",
   "language": "python",
   "name": "python2"
  },
  "language_info": {
   "codemirror_mode": {
    "name": "ipython",
    "version": 2
   },
   "file_extension": ".py",
   "mimetype": "text/x-python",
   "name": "python",
   "nbconvert_exporter": "python",
   "pygments_lexer": "ipython2",
   "version": "2.7.11"
  }
 },
 "nbformat": 4,
 "nbformat_minor": 0
}
